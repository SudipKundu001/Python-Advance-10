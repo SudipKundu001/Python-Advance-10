{
 "cells": [
  {
   "cell_type": "markdown",
   "id": "4b2aca5f",
   "metadata": {},
   "source": [
    ">__Q1. What is the difference between __getattr__ and __getattribute__?__"
   ]
  },
  {
   "cell_type": "markdown",
   "id": "185f4c58",
   "metadata": {},
   "source": [
    "Ans.  A key difference between __getattr__ and __getattribute__ is that __getattr__ is only invoked if the attribute wasn't found the usual ways. It's good for implementing a fallback for missing attributes, and is probably the one of two you want."
   ]
  },
  {
   "cell_type": "markdown",
   "id": "4434a9e0",
   "metadata": {},
   "source": [
    ">__Q2. What is the difference between properties and descriptors?__"
   ]
  },
  {
   "cell_type": "markdown",
   "id": "d1f51c56",
   "metadata": {},
   "source": [
    "Ans.   Descriptors are a low-level mechanism that lets you hook into an object's attributes being accessed. Properties are a high-level application of this; that is, properties are implemented using descriptors."
   ]
  },
  {
   "cell_type": "markdown",
   "id": "2b3084f4",
   "metadata": {},
   "source": [
    ">__Q3. What are the key differences in functionality between __getattr__ and __getattribute__, as well as properties and descriptors?__"
   ]
  },
  {
   "cell_type": "markdown",
   "id": "4c2404b0",
   "metadata": {},
   "source": [
    "Ans.  A key difference between getattr and getattribute is that getattr is only invoked if the attribute wasn't found the usual ways. It's good for implementing a fallback for missing attributes, and is probably the one of two you want.\n",
    "\n",
    "The Cliff's Notes version: descriptors are a low-level mechanism that lets you hook into an object's attributes being accessed. Properties are a high-level application of this; that is, properties are implemented using descriptors."
   ]
  }
 ],
 "metadata": {
  "kernelspec": {
   "display_name": "Python 3",
   "language": "python",
   "name": "python3"
  },
  "language_info": {
   "codemirror_mode": {
    "name": "ipython",
    "version": 3
   },
   "file_extension": ".py",
   "mimetype": "text/x-python",
   "name": "python",
   "nbconvert_exporter": "python",
   "pygments_lexer": "ipython3",
   "version": "3.8.8"
  }
 },
 "nbformat": 4,
 "nbformat_minor": 5
}
